{
  "nbformat": 4,
  "nbformat_minor": 0,
  "metadata": {
    "colab": {
      "name": "Kopia melanoma.ipynb",
      "version": "0.3.2",
      "provenance": [],
      "collapsed_sections": [],
      "toc_visible": true
    },
    "kernelspec": {
      "name": "python3",
      "display_name": "Python 3"
    },
    "accelerator": "GPU"
  },
  "cells": [
    {
      "cell_type": "markdown",
      "metadata": {
        "id": "pgL3EuKJGpAU",
        "colab_type": "text"
      },
      "source": [
        "#Melanoma Recognition\n"
      ]
    },
    {
      "cell_type": "markdown",
      "metadata": {
        "id": "um-FqCKJG-oV",
        "colab_type": "text"
      },
      "source": [
        "The goal of this project is visually diagnose melanoma, the deadliest form of skin cancer. In particular, our algorithm will distinguish this malignant skin tumor from two types of benign lesions (nevi and seborrheic keratoses).\n",
        "![alt text](https://challenge.kitware.com/api/v1/file/5846467ecad3a51cc66c8dcd/download)"
      ]
    },
    {
      "cell_type": "markdown",
      "metadata": {
        "id": "tbAcTt1PGkqR",
        "colab_type": "text"
      },
      "source": [
        "##Imports"
      ]
    },
    {
      "cell_type": "code",
      "metadata": {
        "id": "vrepjHljyObF",
        "colab_type": "code",
        "outputId": "5de29ca2-ac05-493d-8345-b0e96bac8e66",
        "colab": {
          "base_uri": "https://localhost:8080/",
          "height": 292
        }
      },
      "source": [
        "!pip install scikit-plot"
      ],
      "execution_count": 5,
      "outputs": [
        {
          "output_type": "stream",
          "text": [
            "Collecting scikit-plot\n",
            "  Downloading https://files.pythonhosted.org/packages/7c/47/32520e259340c140a4ad27c1b97050dd3254fdc517b1d59974d47037510e/scikit_plot-0.3.7-py3-none-any.whl\n",
            "Requirement already satisfied: joblib>=0.10 in /usr/local/lib/python3.6/dist-packages (from scikit-plot) (0.13.2)\n",
            "Requirement already satisfied: scikit-learn>=0.18 in /usr/local/lib/python3.6/dist-packages (from scikit-plot) (0.21.2)\n",
            "Requirement already satisfied: matplotlib>=1.4.0 in /usr/local/lib/python3.6/dist-packages (from scikit-plot) (3.0.3)\n",
            "Requirement already satisfied: scipy>=0.9 in /usr/local/lib/python3.6/dist-packages (from scikit-plot) (1.3.0)\n",
            "Requirement already satisfied: numpy>=1.11.0 in /usr/local/lib/python3.6/dist-packages (from scikit-learn>=0.18->scikit-plot) (1.16.4)\n",
            "Requirement already satisfied: cycler>=0.10 in /usr/local/lib/python3.6/dist-packages (from matplotlib>=1.4.0->scikit-plot) (0.10.0)\n",
            "Requirement already satisfied: kiwisolver>=1.0.1 in /usr/local/lib/python3.6/dist-packages (from matplotlib>=1.4.0->scikit-plot) (1.1.0)\n",
            "Requirement already satisfied: pyparsing!=2.0.4,!=2.1.2,!=2.1.6,>=2.0.1 in /usr/local/lib/python3.6/dist-packages (from matplotlib>=1.4.0->scikit-plot) (2.4.0)\n",
            "Requirement already satisfied: python-dateutil>=2.1 in /usr/local/lib/python3.6/dist-packages (from matplotlib>=1.4.0->scikit-plot) (2.5.3)\n",
            "Requirement already satisfied: six in /usr/local/lib/python3.6/dist-packages (from cycler>=0.10->matplotlib>=1.4.0->scikit-plot) (1.12.0)\n",
            "Requirement already satisfied: setuptools in /usr/local/lib/python3.6/dist-packages (from kiwisolver>=1.0.1->matplotlib>=1.4.0->scikit-plot) (41.0.1)\n",
            "Installing collected packages: scikit-plot\n",
            "Successfully installed scikit-plot-0.3.7\n"
          ],
          "name": "stdout"
        }
      ]
    },
    {
      "cell_type": "code",
      "metadata": {
        "id": "EvOwaJ5LyaWs",
        "colab_type": "code",
        "colab": {}
      },
      "source": [
        "import torchvision\n",
        "import torch\n",
        "import numpy as np\n",
        "import matplotlib.pyplot as plt\n",
        "import scikitplot as skplt\n",
        "from PIL import Image\n"
      ],
      "execution_count": 0,
      "outputs": []
    },
    {
      "cell_type": "markdown",
      "metadata": {
        "id": "FJ9VxjNOGXTf",
        "colab_type": "text"
      },
      "source": [
        "##Load data\n",
        "\n",
        "\n",
        "Data used in this project was collected from:\n",
        "*   https://challenge.kitware.com/#phase/5840f53ccad3a51cc66c8dab\n",
        "*   https://challenge2018.isic-archive.com/task3/training/ (main source)\n",
        "*   http://www.cs.rug.nl/~imaging/databases/melanoma_naevi/\n",
        "\n",
        "First class contains pictures of melanoma. Benign lesions (nevi and seborrheic keratoses) were merged together to create the second class. Pictures with marks (pen dots, arrows, circles) were deleted from dataset."
      ]
    },
    {
      "cell_type": "code",
      "metadata": {
        "id": "LcJTU_Kbymoq",
        "colab_type": "code",
        "outputId": "3e02e33d-81e0-45b3-9779-c33154cfd536",
        "colab": {
          "base_uri": "https://localhost:8080/",
          "height": 122
        }
      },
      "source": [
        "import zipfile\n",
        "from google.colab import drive\n",
        "\n",
        "drive.mount('/content/drive/')"
      ],
      "execution_count": 10,
      "outputs": [
        {
          "output_type": "stream",
          "text": [
            "Go to this URL in a browser: https://accounts.google.com/o/oauth2/auth?client_id=947318989803-6bn6qk8qdgf4n4g3pfee6491hc0brc4i.apps.googleusercontent.com&redirect_uri=urn%3Aietf%3Awg%3Aoauth%3A2.0%3Aoob&scope=email%20https%3A%2F%2Fwww.googleapis.com%2Fauth%2Fdocs.test%20https%3A%2F%2Fwww.googleapis.com%2Fauth%2Fdrive%20https%3A%2F%2Fwww.googleapis.com%2Fauth%2Fdrive.photos.readonly%20https%3A%2F%2Fwww.googleapis.com%2Fauth%2Fpeopleapi.readonly&response_type=code\n",
            "\n",
            "Enter your authorization code:\n",
            "··········\n",
            "Mounted at /content/drive/\n"
          ],
          "name": "stdout"
        }
      ]
    },
    {
      "cell_type": "code",
      "metadata": {
        "id": "jksdrke3yqga",
        "colab_type": "code",
        "colab": {}
      },
      "source": [
        "for n in ['train.zip', 'valid.zip', 'test.zip']:\n",
        "  zip_ref = zipfile.ZipFile(\"/content/drive/My Drive/data/\" + n, 'r')\n",
        "  zip_ref.extractall(\"/tmp/data\")\n",
        "  zip_ref.close()"
      ],
      "execution_count": 0,
      "outputs": []
    },
    {
      "cell_type": "markdown",
      "metadata": {
        "id": "kM5YLbobFh_A",
        "colab_type": "text"
      },
      "source": [
        "##Define data loaders"
      ]
    },
    {
      "cell_type": "code",
      "metadata": {
        "id": "nVsD_CZyzGCb",
        "colab_type": "code",
        "colab": {}
      },
      "source": [
        "data_dir = \"/tmp/data\"\n",
        "train_dir = data_dir + \"/train\"\n",
        "valid_dir = data_dir + \"/valid\"\n",
        "test_dir = data_dir + \"/test\"\n",
        "\n",
        "#mean and standard deviation\n",
        "mean = [0.485, 0.456, 0.406]\n",
        "std = [0.229, 0.224, 0.225]\n",
        "\n",
        "#transforms for train phase with data augmentation - rotation, flips, resize\n",
        "train_transforms = torchvision.transforms.Compose([torchvision.transforms.RandomRotation(90),\n",
        "                                                   torchvision.transforms.RandomResizedCrop(224, scale=(0.9, 1.0)),\n",
        "                                                   torchvision.transforms.RandomHorizontalFlip(),\n",
        "                                                   torchvision.transforms.ToTensor(),\n",
        "                                                   torchvision.transforms.Normalize(mean, std)]) \n",
        "\n",
        "#transforms for test and validation phase\n",
        "test_transforms = torchvision.transforms.Compose([torchvision.transforms.Resize(255),\n",
        "                                                  torchvision.transforms.CenterCrop(224),\n",
        "                                                  torchvision.transforms.ToTensor(),\n",
        "                                                  torchvision.transforms.Normalize(mean, std)])\n",
        "\n",
        "#Load the datasets with ImageFolder\n",
        "image_dataset = torchvision.datasets.ImageFolder(train_dir, transform=train_transforms)\n",
        "valid_dataset = torchvision.datasets.ImageFolder(valid_dir, transform=test_transforms)\n",
        "test_dataset = torchvision.datasets.ImageFolder(test_dir, transform=test_transforms)\n",
        "\n",
        "# Define the dataloaders\n",
        "dataloaders = torch.utils.data.DataLoader(image_dataset, batch_size=32, shuffle=True, num_workers=0)\n",
        "testloaders = torch.utils.data.DataLoader(test_dataset, batch_size=64, num_workers=0)\n",
        "validloaders = torch.utils.data.DataLoader(valid_dataset, batch_size=64, num_workers=0)"
      ],
      "execution_count": 0,
      "outputs": []
    },
    {
      "cell_type": "markdown",
      "metadata": {
        "id": "4kbmeDMFFGSp",
        "colab_type": "text"
      },
      "source": [
        "##Load pretrained model resnet\n",
        "Change linear layer to match output to number of our classes = 2"
      ]
    },
    {
      "cell_type": "code",
      "metadata": {
        "id": "Vuxx9ZxSzjbP",
        "colab_type": "code",
        "outputId": "28202a27-f876-4521-d083-6b83ab7efce9",
        "colab": {
          "base_uri": "https://localhost:8080/",
          "height": 71
        }
      },
      "source": [
        "model = torchvision.models.resnet18(pretrained=True)\n",
        "model.fc = torch.nn.Linear(model.fc.in_features, 3)"
      ],
      "execution_count": 7,
      "outputs": [
        {
          "output_type": "stream",
          "text": [
            "Downloading: \"https://download.pytorch.org/models/resnet18-5c106cde.pth\" to /root/.cache/torch/checkpoints/resnet18-5c106cde.pth\n",
            "100%|██████████| 46827520/46827520 [00:01<00:00, 46368500.69it/s]\n"
          ],
          "name": "stderr"
        }
      ]
    },
    {
      "cell_type": "code",
      "metadata": {
        "id": "xwFD8CiZ1gic",
        "colab_type": "code",
        "outputId": "7d8a8f36-5a81-4152-e6d1-c6ef6ed9abe7",
        "colab": {
          "base_uri": "https://localhost:8080/",
          "height": 34
        }
      },
      "source": [
        "# check if CUDA is available\n",
        "\n",
        "device = torch.device(\"cuda:0\" if torch.cuda.is_available() else \"cpu\")\n",
        "print(device)"
      ],
      "execution_count": 35,
      "outputs": [
        {
          "output_type": "stream",
          "text": [
            "cuda:0\n"
          ],
          "name": "stdout"
        }
      ]
    },
    {
      "cell_type": "markdown",
      "metadata": {
        "id": "mFE0pSc7E_6K",
        "colab_type": "text"
      },
      "source": [
        "##Train model"
      ]
    },
    {
      "cell_type": "code",
      "metadata": {
        "id": "8pAuDqA50W4k",
        "colab_type": "code",
        "colab": {}
      },
      "source": [
        "optimizer = torch.optim.Adam(model.parameters(), lr=1e-6)\n",
        "criterion = torch.nn.CrossEntropyLoss()"
      ],
      "execution_count": 0,
      "outputs": []
    },
    {
      "cell_type": "code",
      "metadata": {
        "id": "yJRmreF7GXKc",
        "colab_type": "code",
        "colab": {}
      },
      "source": [
        "model_save_path = \"drive/My Drive/model_melanoma_v8.pt\"\n"
      ],
      "execution_count": 0,
      "outputs": []
    },
    {
      "cell_type": "code",
      "metadata": {
        "id": "ZFzVpXem0xDW",
        "colab_type": "code",
        "outputId": "77556a26-643c-413f-9e31-38fd892d92b2",
        "colab": {
          "base_uri": "https://localhost:8080/",
          "height": 1561
        }
      },
      "source": [
        "max_epochs = 20\n",
        "trainings_error = []\n",
        "validation_error = []\n",
        "min_valid_error = 100\n",
        "model_save_path = \"drive/My Drive/model_melanoma_v8.pt\"\n",
        "\n",
        "model.to(device)\n",
        "\n",
        "for epoch in range(max_epochs):\n",
        "    print('epoch:', epoch+1, '/', max_epochs)\n",
        "    count_train = 0\n",
        "    trainings_error_tmp = []\n",
        "    \n",
        "    for data_sample, y in dataloaders:\n",
        "        model.train()\n",
        "        data_sample, y = data_sample.to(device), y.to(device)\n",
        "        output = model(data_sample)\n",
        "        err = criterion(output, y)\n",
        "        err.backward()\n",
        "        optimizer.step()\n",
        "        trainings_error_tmp.append(err.item())\n",
        "        \n",
        "    mean_trainings_error = np.mean(trainings_error_tmp)\n",
        "    trainings_error.append(mean_trainings_error)\n",
        "    print('trainings error:', mean_trainings_error)\n",
        "\n",
        "    model.eval()\n",
        "    with torch.set_grad_enabled(False):\n",
        "        validation_error_tmp = []\n",
        "\n",
        "        for data_sample, y in validloaders:\n",
        "            data_sample, y = data_sample.to(device), y.to(device)\n",
        "            output = model(data_sample)\n",
        "            err = criterion(output, y)\n",
        "            validation_error_tmp.append(err.item())\n",
        "\n",
        "        mean_val_error = np.mean(validation_error_tmp)\n",
        "        validation_error.append(mean_val_error)\n",
        "        print('validation error:', mean_val_error)\n",
        "        #save best model\n",
        "        if min_valid_error > mean_val_error:\n",
        "          min_valid_error = mean_val_error\n",
        "          torch.save(model.state_dict(), model_save_path)\n",
        "          print('saving model...')\n",
        "\n",
        "#plots for training and validation errors during training\n",
        "plt.plot(trainings_error, label = 'training error')\n",
        "plt.plot(validation_error, label = 'validation error')\n",
        "plt.legend()\n",
        "plt.show()"
      ],
      "execution_count": 24,
      "outputs": [
        {
          "output_type": "stream",
          "text": [
            "epoch: 1 / 20\n",
            "trainings error: 0.8356253192538307\n",
            "validation error: 1.0704101920127869\n",
            "saving model...\n",
            "epoch: 2 / 20\n",
            "trainings error: 0.7465776744342986\n",
            "validation error: 0.9659586946169535\n",
            "saving model...\n",
            "epoch: 3 / 20\n",
            "trainings error: 0.6961875430175236\n",
            "validation error: 0.8825737833976746\n",
            "saving model...\n",
            "epoch: 4 / 20\n",
            "trainings error: 0.6340237974174439\n",
            "validation error: 0.8122503360112509\n",
            "saving model...\n",
            "epoch: 5 / 20\n",
            "trainings error: 0.6041028149544246\n",
            "validation error: 0.7792836427688599\n",
            "saving model...\n",
            "epoch: 6 / 20\n",
            "trainings error: 0.5657361040985773\n",
            "validation error: 0.7545099854469299\n",
            "saving model...\n",
            "epoch: 7 / 20\n",
            "trainings error: 0.5474434159104786\n",
            "validation error: 0.7188821236292521\n",
            "saving model...\n",
            "epoch: 8 / 20\n",
            "trainings error: 0.516103267196625\n",
            "validation error: 0.687852164109548\n",
            "saving model...\n",
            "epoch: 9 / 20\n",
            "trainings error: 0.4876857679041605\n",
            "validation error: 0.6641738017400106\n",
            "saving model...\n",
            "epoch: 10 / 20\n",
            "trainings error: 0.46903539839245023\n",
            "validation error: 0.619736393292745\n",
            "saving model...\n",
            "epoch: 11 / 20\n",
            "trainings error: 0.45435075887611936\n",
            "validation error: 0.552921195824941\n",
            "saving model...\n",
            "epoch: 12 / 20\n",
            "trainings error: 0.42927326829660506\n",
            "validation error: 0.5212417344252268\n",
            "saving model...\n",
            "epoch: 13 / 20\n",
            "trainings error: 0.4217180997606308\n",
            "validation error: 0.5020798444747925\n",
            "saving model...\n",
            "epoch: 14 / 20\n",
            "trainings error: 0.384469919734531\n",
            "validation error: 0.49890334407488507\n",
            "saving model...\n",
            "epoch: 15 / 20\n",
            "trainings error: 0.3651810498937728\n",
            "validation error: 0.47189317146937054\n",
            "saving model...\n",
            "epoch: 16 / 20\n",
            "trainings error: 0.376859606968032\n",
            "validation error: 0.47305792570114136\n",
            "epoch: 17 / 20\n",
            "trainings error: 0.33289173150819446\n",
            "validation error: 0.4612921178340912\n",
            "saving model...\n",
            "epoch: 18 / 20\n",
            "trainings error: 0.320407154541167\n",
            "validation error: 0.4905129571755727\n",
            "epoch: 19 / 20\n",
            "trainings error: 0.3074573775132497\n",
            "validation error: 0.4861249327659607\n",
            "epoch: 20 / 20\n",
            "trainings error: 0.28861080062767813\n",
            "validation error: 0.4699624876181285\n"
          ],
          "name": "stdout"
        },
        {
          "output_type": "display_data",
          "data": {
            "image/png": "[encoded data removed]",
            "text/plain": [
              "<Figure size 432x288 with 1 Axes>"
            ]
          },
          "metadata": {
            "tags": []
          }
        }
      ]
    },
    {
      "cell_type": "markdown",
      "metadata": {
        "id": "hoGsn0GDESDW",
        "colab_type": "text"
      },
      "source": [
        "## Load best model "
      ]
    },
    {
      "cell_type": "code",
      "metadata": {
        "id": "yT66Iugb5wOR",
        "colab_type": "code",
        "outputId": "25dde49d-8a1a-4b19-82f2-14e49566a723",
        "colab": {
          "base_uri": "https://localhost:8080/",
          "height": 1445
        }
      },
      "source": [
        "#save current model \n",
        "# last_model_save_path = \"drive/My Drive/model_melanoma_v7_last.pt\"\n",
        "# torch.save(model.state_dict(), last_model_save_path)\n",
        "#load best model\n",
        "model.load_state_dict(torch.load(model_save_path), strict=False)\n",
        "model.to(device)"
      ],
      "execution_count": 11,
      "outputs": [
        {
          "output_type": "execute_result",
          "data": {
            "text/plain": [
              "ResNet(\n",
              "  (conv1): Conv2d(3, 64, kernel_size=(7, 7), stride=(2, 2), padding=(3, 3), bias=False)\n",
              "  (bn1): BatchNorm2d(64, eps=1e-05, momentum=0.1, affine=True, track_running_stats=True)\n",
              "  (relu): ReLU(inplace)\n",
              "  (maxpool): MaxPool2d(kernel_size=3, stride=2, padding=1, dilation=1, ceil_mode=False)\n",
              "  (layer1): Sequential(\n",
              "    (0): BasicBlock(\n",
              "      (conv1): Conv2d(64, 64, kernel_size=(3, 3), stride=(1, 1), padding=(1, 1), bias=False)\n",
              "      (bn1): BatchNorm2d(64, eps=1e-05, momentum=0.1, affine=True, track_running_stats=True)\n",
              "      (relu): ReLU(inplace)\n",
              "      (conv2): Conv2d(64, 64, kernel_size=(3, 3), stride=(1, 1), padding=(1, 1), bias=False)\n",
              "      (bn2): BatchNorm2d(64, eps=1e-05, momentum=0.1, affine=True, track_running_stats=True)\n",
              "    )\n",
              "    (1): BasicBlock(\n",
              "      (conv1): Conv2d(64, 64, kernel_size=(3, 3), stride=(1, 1), padding=(1, 1), bias=False)\n",
              "      (bn1): BatchNorm2d(64, eps=1e-05, momentum=0.1, affine=True, track_running_stats=True)\n",
              "      (relu): ReLU(inplace)\n",
              "      (conv2): Conv2d(64, 64, kernel_size=(3, 3), stride=(1, 1), padding=(1, 1), bias=False)\n",
              "      (bn2): BatchNorm2d(64, eps=1e-05, momentum=0.1, affine=True, track_running_stats=True)\n",
              "    )\n",
              "  )\n",
              "  (layer2): Sequential(\n",
              "    (0): BasicBlock(\n",
              "      (conv1): Conv2d(64, 128, kernel_size=(3, 3), stride=(2, 2), padding=(1, 1), bias=False)\n",
              "      (bn1): BatchNorm2d(128, eps=1e-05, momentum=0.1, affine=True, track_running_stats=True)\n",
              "      (relu): ReLU(inplace)\n",
              "      (conv2): Conv2d(128, 128, kernel_size=(3, 3), stride=(1, 1), padding=(1, 1), bias=False)\n",
              "      (bn2): BatchNorm2d(128, eps=1e-05, momentum=0.1, affine=True, track_running_stats=True)\n",
              "      (downsample): Sequential(\n",
              "        (0): Conv2d(64, 128, kernel_size=(1, 1), stride=(2, 2), bias=False)\n",
              "        (1): BatchNorm2d(128, eps=1e-05, momentum=0.1, affine=True, track_running_stats=True)\n",
              "      )\n",
              "    )\n",
              "    (1): BasicBlock(\n",
              "      (conv1): Conv2d(128, 128, kernel_size=(3, 3), stride=(1, 1), padding=(1, 1), bias=False)\n",
              "      (bn1): BatchNorm2d(128, eps=1e-05, momentum=0.1, affine=True, track_running_stats=True)\n",
              "      (relu): ReLU(inplace)\n",
              "      (conv2): Conv2d(128, 128, kernel_size=(3, 3), stride=(1, 1), padding=(1, 1), bias=False)\n",
              "      (bn2): BatchNorm2d(128, eps=1e-05, momentum=0.1, affine=True, track_running_stats=True)\n",
              "    )\n",
              "  )\n",
              "  (layer3): Sequential(\n",
              "    (0): BasicBlock(\n",
              "      (conv1): Conv2d(128, 256, kernel_size=(3, 3), stride=(2, 2), padding=(1, 1), bias=False)\n",
              "      (bn1): BatchNorm2d(256, eps=1e-05, momentum=0.1, affine=True, track_running_stats=True)\n",
              "      (relu): ReLU(inplace)\n",
              "      (conv2): Conv2d(256, 256, kernel_size=(3, 3), stride=(1, 1), padding=(1, 1), bias=False)\n",
              "      (bn2): BatchNorm2d(256, eps=1e-05, momentum=0.1, affine=True, track_running_stats=True)\n",
              "      (downsample): Sequential(\n",
              "        (0): Conv2d(128, 256, kernel_size=(1, 1), stride=(2, 2), bias=False)\n",
              "        (1): BatchNorm2d(256, eps=1e-05, momentum=0.1, affine=True, track_running_stats=True)\n",
              "      )\n",
              "    )\n",
              "    (1): BasicBlock(\n",
              "      (conv1): Conv2d(256, 256, kernel_size=(3, 3), stride=(1, 1), padding=(1, 1), bias=False)\n",
              "      (bn1): BatchNorm2d(256, eps=1e-05, momentum=0.1, affine=True, track_running_stats=True)\n",
              "      (relu): ReLU(inplace)\n",
              "      (conv2): Conv2d(256, 256, kernel_size=(3, 3), stride=(1, 1), padding=(1, 1), bias=False)\n",
              "      (bn2): BatchNorm2d(256, eps=1e-05, momentum=0.1, affine=True, track_running_stats=True)\n",
              "    )\n",
              "  )\n",
              "  (layer4): Sequential(\n",
              "    (0): BasicBlock(\n",
              "      (conv1): Conv2d(256, 512, kernel_size=(3, 3), stride=(2, 2), padding=(1, 1), bias=False)\n",
              "      (bn1): BatchNorm2d(512, eps=1e-05, momentum=0.1, affine=True, track_running_stats=True)\n",
              "      (relu): ReLU(inplace)\n",
              "      (conv2): Conv2d(512, 512, kernel_size=(3, 3), stride=(1, 1), padding=(1, 1), bias=False)\n",
              "      (bn2): BatchNorm2d(512, eps=1e-05, momentum=0.1, affine=True, track_running_stats=True)\n",
              "      (downsample): Sequential(\n",
              "        (0): Conv2d(256, 512, kernel_size=(1, 1), stride=(2, 2), bias=False)\n",
              "        (1): BatchNorm2d(512, eps=1e-05, momentum=0.1, affine=True, track_running_stats=True)\n",
              "      )\n",
              "    )\n",
              "    (1): BasicBlock(\n",
              "      (conv1): Conv2d(512, 512, kernel_size=(3, 3), stride=(1, 1), padding=(1, 1), bias=False)\n",
              "      (bn1): BatchNorm2d(512, eps=1e-05, momentum=0.1, affine=True, track_running_stats=True)\n",
              "      (relu): ReLU(inplace)\n",
              "      (conv2): Conv2d(512, 512, kernel_size=(3, 3), stride=(1, 1), padding=(1, 1), bias=False)\n",
              "      (bn2): BatchNorm2d(512, eps=1e-05, momentum=0.1, affine=True, track_running_stats=True)\n",
              "    )\n",
              "  )\n",
              "  (avgpool): AdaptiveAvgPool2d(output_size=(1, 1))\n",
              "  (fc): Linear(in_features=512, out_features=3, bias=True)\n",
              ")"
            ]
          },
          "metadata": {
            "tags": []
          },
          "execution_count": 11
        }
      ]
    },
    {
      "cell_type": "markdown",
      "metadata": {
        "id": "B9jMzpLJEMr0",
        "colab_type": "text"
      },
      "source": [
        "##Test"
      ]
    },
    {
      "cell_type": "code",
      "metadata": {
        "id": "X05QBhq56AW6",
        "colab_type": "code",
        "outputId": "33ea96cf-2bc6-4288-80c1-9c40085655b6",
        "colab": {
          "base_uri": "https://localhost:8080/",
          "height": 51
        }
      },
      "source": [
        "result_array = []\n",
        "labels_array = []\n",
        "prob_array = []\n",
        "\n",
        "model.eval()\n",
        "with torch.no_grad():\n",
        "  test_error_tmp = []\n",
        "  for data_sample, y in testloaders:\n",
        "    data_sample, y = data_sample.to(device), y.to(device)\n",
        "    output = model(data_sample)\n",
        "    top_p, top_class = output.topk(1, dim=1)\n",
        "    err = criterion(output, y)\n",
        "    test_error_tmp.append(err.item())\n",
        "    labels_array += y.tolist()\n",
        "    result_array += top_class.flatten().tolist()\n",
        "    prob_array += torch.nn.functional.softmax(output, dim=1).tolist()\n",
        "\n",
        "mean_test_error = np.mean(test_error_tmp)\n",
        "correct_results = np.array(result_array)==np.array(labels_array)\n",
        "sum_correct = np.sum(correct_results)\n",
        "accuracy = sum_correct/len(result_array)                    \n",
        "print('Test accuracy: ', accuracy) \n",
        "print('Test error: ', mean_test_error)"
      ],
      "execution_count": 17,
      "outputs": [
        {
          "output_type": "stream",
          "text": [
            "Test accuracy:  0.7366666666666667\n",
            "Test error:  0.6251504927873611\n"
          ],
          "name": "stdout"
        }
      ]
    },
    {
      "cell_type": "markdown",
      "metadata": {
        "id": "q_9cijhGBKOs",
        "colab_type": "text"
      },
      "source": [
        "## Confusion Matrix and ROC curve\n",
        "\n",
        "\n",
        "*   class 0 => melanoma \n",
        "*   class 1 => nevi \n",
        "*   class 3 =>seborrheic keratoses"
      ]
    },
    {
      "cell_type": "code",
      "metadata": {
        "id": "lVDPHXuRDd6p",
        "colab_type": "code",
        "outputId": "a571f58f-ccca-46ed-a52d-7feb5c4199d5",
        "colab": {
          "base_uri": "https://localhost:8080/",
          "height": 295
        }
      },
      "source": [
        "skplt.metrics.plot_confusion_matrix(labels_array, result_array, normalize=True)\n",
        "plt.show()"
      ],
      "execution_count": 18,
      "outputs": [
        {
          "output_type": "display_data",
          "data": {
            "image/png": "[encoded data removed]",
            "text/plain": [
              "<Figure size 432x288 with 2 Axes>"
            ]
          },
          "metadata": {
            "tags": []
          }
        }
      ]
    },
    {
      "cell_type": "code",
      "metadata": {
        "id": "gCLBWEl_EPn0",
        "colab_type": "code",
        "outputId": "2b442d61-02e1-4b62-a6ac-fe8c26b46f5f",
        "colab": {
          "base_uri": "https://localhost:8080/",
          "height": 349
        }
      },
      "source": [
        "skplt.metrics.plot_roc_curve(labels_array, prob_array)\n",
        "plt.show()"
      ],
      "execution_count": 19,
      "outputs": [
        {
          "output_type": "stream",
          "text": [
            "/usr/local/lib/python3.6/dist-packages/sklearn/utils/deprecation.py:85: DeprecationWarning: Function plot_roc_curve is deprecated; This will be removed in v0.5.0. Please use scikitplot.metrics.plot_roc instead.\n",
            "  warnings.warn(msg, category=DeprecationWarning)\n"
          ],
          "name": "stderr"
        },
        {
          "output_type": "display_data",
          "data": {
            "image/png": "[encoded data removed]",
            "text/plain": [
              "<Figure size 432x288 with 1 Axes>"
            ]
          },
          "metadata": {
            "tags": []
          }
        }
      ]
    },
    {
      "cell_type": "code",
      "metadata": {
        "id": "hx2qzMo5MksH",
        "colab_type": "code",
        "colab": {}
      },
      "source": [
        "# Process our image\n",
        "def process_image(image_path):\n",
        "    # Load Image\n",
        "    img = Image.open(image_path)\n",
        "    \n",
        "    # Get the dimensions of the image\n",
        "    width, height = img.size\n",
        "    \n",
        "    # Resize by keeping the aspect ratio, but changing the dimension\n",
        "    # so the shortest size is 255px\n",
        "    img = img.resize((255, int(255*(height/width))) if width < height else (int(255*(width/height)), 255))\n",
        "    \n",
        "    # Get the dimensions of the new image size\n",
        "    width, height = img.size\n",
        "    \n",
        "    # Set the coordinates to do a center crop of 224 x 224\n",
        "    left = (width - 224)/2\n",
        "    top = (height - 224)/2\n",
        "    right = (width + 224)/2\n",
        "    bottom = (height + 224)/2\n",
        "    img = img.crop((left, top, right, bottom))\n",
        "    \n",
        "    # Turn image into numpy array\n",
        "    img = np.array(img)\n",
        "    \n",
        "    # Make the color channel dimension first instead of last\n",
        "    img = img.transpose((2, 0, 1))\n",
        "    \n",
        "    # Make all values between 0 and 1\n",
        "    img = img/255\n",
        "    \n",
        "    # Normalize based on the preset mean and standard deviation\n",
        "    img[0] = (img[0] - 0.485)/0.229\n",
        "    img[1] = (img[1] - 0.456)/0.224\n",
        "    img[2] = (img[2] - 0.406)/0.225\n",
        "    \n",
        "    # Add a fourth dimension to the beginning to indicate batch size\n",
        "    img = img[np.newaxis,:]\n",
        "    \n",
        "    # Turn into a torch tensor\n",
        "    image = torch.from_numpy(img).to(device)\n",
        "    image = image.float()\n",
        "    return image"
      ],
      "execution_count": 0,
      "outputs": []
    },
    {
      "cell_type": "code",
      "metadata": {
        "id": "ik0oPsU5MmFL",
        "colab_type": "code",
        "colab": {}
      },
      "source": [
        "def predict(image, model):\n",
        "    # Pass the image through our model\n",
        "    output = model.forward(image)\n",
        "    \n",
        "    # Reverse the log function in our output\n",
        "    output = torch.exp(output)\n",
        "    \n",
        "    # Get the top predicted class, and the output percentage for\n",
        "    # that class\n",
        "    probs, classes = output.topk(1, dim=1)\n",
        "    return probs.item(), classes.item()"
      ],
      "execution_count": 0,
      "outputs": []
    },
    {
      "cell_type": "markdown",
      "metadata": {
        "id": "UQxjtc4MNSDh",
        "colab_type": "text"
      },
      "source": [
        "## Possible improvments\n",
        "\n",
        "\n",
        "*   Lower treshold for classifing melanoma. It's better to have highier rate of true positive than false negative.\n",
        "*   Try different pretrained models, try different learning parameters and transformations to get better accuracy.\n",
        "*   Collect more training data (in our project we added new data only to melanoma class)\n",
        "*   Check validation and test sets, current model can overfit on test data (error is lower than on validation data) or validation data is not representative sample of dataset\n",
        "\n"
      ]
    }
  ]
}